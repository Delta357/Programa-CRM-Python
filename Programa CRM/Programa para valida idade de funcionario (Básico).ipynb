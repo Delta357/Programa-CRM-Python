{
 "cells": [
  {
   "cell_type": "code",
   "execution_count": 5,
   "metadata": {},
   "outputs": [
    {
     "name": "stdout",
     "output_type": "stream",
     "text": [
      "Digite a idade do funcionario(a): 15\n",
      "Funcionario reprovado(a): \n"
     ]
    }
   ],
   "source": [
    "#Programa para valida idade do funcionario\n",
    "idade = int(input(\"Digite a idade do funcionario(a): \"))\n",
    "if idade > 18:\n",
    "    print(\"Funcionario aprovado(a): \")\n",
    "else:\n",
    "    print(\"Funcionario reprovado(a): \")"
   ]
  },
  {
   "cell_type": "code",
   "execution_count": null,
   "metadata": {},
   "outputs": [],
   "source": []
  }
 ],
 "metadata": {
  "kernelspec": {
   "display_name": "Python 3",
   "language": "python",
   "name": "python3"
  },
  "language_info": {
   "codemirror_mode": {
    "name": "ipython",
    "version": 3
   },
   "file_extension": ".py",
   "mimetype": "text/x-python",
   "name": "python",
   "nbconvert_exporter": "python",
   "pygments_lexer": "ipython3",
   "version": "3.6.5"
  }
 },
 "nbformat": 4,
 "nbformat_minor": 2
}
