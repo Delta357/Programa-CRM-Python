{
 "cells": [
  {
   "cell_type": "markdown",
   "metadata": {},
   "source": [
    "# Programa para validar e-mail"
   ]
  },
  {
   "cell_type": "code",
   "execution_count": 3,
   "metadata": {},
   "outputs": [
    {
     "name": "stdout",
     "output_type": "stream",
     "text": [
      "Digite o nome do funcionario(a): Karol\n",
      "Digite o email do funcionario(a): karoloul.com.br\n",
      "E-mail aprovado do funcionario(a) ! \n"
     ]
    }
   ],
   "source": [
    "#Programa para validar e-mail\n",
    "nome = str(input(\"Digite o nome do funcionario(a): \"))\n",
    "email = str(input(\"Digite o email do funcionario(a): \"))\n",
    "def valid_email(string):\n",
    "    pos = string.find(\"@\")\n",
    "    dot = string.rfind(\".\")\n",
    "    if pos < 1:\n",
    "        return False\n",
    "    if dot < pos + 2:\n",
    "        return False\n",
    "    if dot + 2 >= len(string):\n",
    "        return False\n",
    "    return True\n",
    "print(\"E-mail aprovado do funcionario(a) ! \")\n",
    "        "
   ]
  },
  {
   "cell_type": "code",
   "execution_count": null,
   "metadata": {},
   "outputs": [],
   "source": []
  }
 ],
 "metadata": {
  "kernelspec": {
   "display_name": "Python 3",
   "language": "python",
   "name": "python3"
  },
  "language_info": {
   "codemirror_mode": {
    "name": "ipython",
    "version": 3
   },
   "file_extension": ".py",
   "mimetype": "text/x-python",
   "name": "python",
   "nbconvert_exporter": "python",
   "pygments_lexer": "ipython3",
   "version": "3.6.5"
  }
 },
 "nbformat": 4,
 "nbformat_minor": 2
}
